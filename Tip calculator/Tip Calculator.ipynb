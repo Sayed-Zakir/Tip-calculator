{
 "cells": [
  {
   "cell_type": "code",
   "execution_count": 2,
   "id": "4d9bc930",
   "metadata": {},
   "outputs": [
    {
     "name": "stdout",
     "output_type": "stream",
     "text": [
      "Welcome to the tip calculator.\n",
      "What is your total bill: 124.56\n",
      "what percentage tip would you like to give? 10,12, or 15? 12\n",
      "How many people to split the bill: 7\n",
      "Each person should pay 19.93\n"
     ]
    }
   ],
   "source": [
    "print(\"Welcome to the tip calculator.\")\n",
    "\n",
    "#Ask user total bill\n",
    "total_bill= float(input(\"What is your total bill: \"))\n",
    "\n",
    "#Ask the percentage of the bill they want to give as tip\n",
    "percentage=int(input(\"what percentage tip would you like to give? 10,12, or 15? \"))\n",
    "\n",
    "#Ask among how many people to split the bill\n",
    "people= int(input(\"How many people to split the bill: \"))\n",
    "\n",
    "pay=(total_bill*((100+percentage)/100))/people\n",
    "\n",
    "print(f\"Each person should pay {round(pay,2)}\")"
   ]
  },
  {
   "cell_type": "code",
   "execution_count": null,
   "id": "d48fb1b4",
   "metadata": {},
   "outputs": [],
   "source": []
  }
 ],
 "metadata": {
  "kernelspec": {
   "display_name": "Python 3 (ipykernel)",
   "language": "python",
   "name": "python3"
  },
  "language_info": {
   "codemirror_mode": {
    "name": "ipython",
    "version": 3
   },
   "file_extension": ".py",
   "mimetype": "text/x-python",
   "name": "python",
   "nbconvert_exporter": "python",
   "pygments_lexer": "ipython3",
   "version": "3.9.13"
  }
 },
 "nbformat": 4,
 "nbformat_minor": 5
}
